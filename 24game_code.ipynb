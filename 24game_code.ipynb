{
 "cells": [
  {
   "cell_type": "code",
   "execution_count": 2,
   "id": "2301050e",
   "metadata": {},
   "outputs": [],
   "source": [
    "import operator\n",
    "from itertools import product, permutations\n",
    "import random "
   ]
  },
  {
   "cell_type": "code",
   "execution_count": 28,
   "id": "3cc292c0",
   "metadata": {},
   "outputs": [
    {
     "name": "stdout",
     "output_type": "stream",
     "text": [
      "num =  [7, 8, 1, 6]\n",
      "solve24([7, 8, 1, 6]) -> --Not Found--\n"
     ]
    }
   ],
   "source": [
    "def mydiv(n, d):\n",
    "    return n / d if d != 0 else 9999999\n",
    " \n",
    "syms = [operator.add, operator.sub, operator.mul, mydiv]\n",
    "op = {sym: ch for sym, ch in zip(syms, '+-*/')}\n",
    " \n",
    "def solve24(nums):\n",
    "    for x, y, z in product(syms, repeat=3):\n",
    "        for a, b, c, d in permutations(nums):\n",
    "            if round(x(y(a,b),z(c,d)),5) == 24:\n",
    "                return f\"({a} {op[y]} {b}) {op[x]} ({c} {op[z]} {d})\"\n",
    "            elif round(x(a,y(b,z(c,d))),5) == 24:\n",
    "                return f\"{a} {op[x]} ({b} {op[y]} ({c} {op[z]} {d}))\"\n",
    "            elif round(x(y(z(c,d),b),a),5) == 24:\n",
    "                return f\"(({c} {op[z]} {d}) {op[y]} {b}) {op[x]} {a}\"\n",
    "            elif round(x(y(b,z(c,d)),a),5) == 24:\n",
    "                return f\"({b} {op[y]} ({c} {op[z]} {d})) {op[x]} {a}\"\n",
    "    return '--Not Found--'\n",
    " \n",
    "if __name__ == '__main__':\n",
    "    #nums = eval(input('Four integers in the range 1:9 inclusive, separated by commas: '))\n",
    "    n = random.sample(range(1,9), 4)\n",
    "    for nums in [n]:\n",
    "        print('num = ', n)\n",
    "        print(f\"solve24({nums}) -> {solve24(nums)}\")"
   ]
  },
  {
   "cell_type": "code",
   "execution_count": null,
   "id": "70253f2c",
   "metadata": {},
   "outputs": [],
   "source": [
    "#         [9,4,4,5],\n",
    "#         [1,7,2,7],\n",
    "#         [5,7,5,4],\n",
    "#         [1,4,6,6],\n",
    "#         [2,3,7,3],\n",
    "#         [8,7,9,7],\n",
    "#         [1,6,2,6],\n",
    "#         [7,9,4,1],\n",
    "#         [6,4,2,2],\n",
    "#         [5,7,9,7],\n",
    "#         [3,3,8,8],  # Difficult case requiring precise division\n"
   ]
  }
 ],
 "metadata": {
  "kernelspec": {
   "display_name": "Python 3 (ipykernel)",
   "language": "python",
   "name": "python3"
  },
  "language_info": {
   "codemirror_mode": {
    "name": "ipython",
    "version": 3
   },
   "file_extension": ".py",
   "mimetype": "text/x-python",
   "name": "python",
   "nbconvert_exporter": "python",
   "pygments_lexer": "ipython3",
   "version": "3.9.7"
  }
 },
 "nbformat": 4,
 "nbformat_minor": 5
}
